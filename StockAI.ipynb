{
 "cells": [
  {
   "cell_type": "code",
   "execution_count": 2,
   "metadata": {},
   "outputs": [],
   "source": [
    "%matplotlib inline\n",
    "import yfinance as yf\n",
    "import pandas as pd\n",
    "import mplfinance as mpf"
   ]
  },
  {
   "cell_type": "code",
   "execution_count": 3,
   "metadata": {},
   "outputs": [],
   "source": [
    "tickers = ['TSLA', 'LABU', 'FAS', 'SOXL', 'SPY', 'QQQ', 'NVDA', 'BCS', 'BNGO', 'PLUG']\n",
    "days = 3\n",
    "movement = 0.03"
   ]
  },
  {
   "cell_type": "code",
   "execution_count": 4,
   "metadata": {},
   "outputs": [
    {
     "name": "stdout",
     "output_type": "stream",
     "text": [
      "[*********************100%***********************]  1 of 1 completed\n",
      "[*********************100%***********************]  1 of 1 completed\n",
      "[*********************100%***********************]  1 of 1 completed\n",
      "[*********************100%***********************]  1 of 1 completed\n",
      "[*********************100%***********************]  1 of 1 completed\n",
      "[*********************100%***********************]  1 of 1 completed\n",
      "[*********************100%***********************]  1 of 1 completed\n",
      "[*********************100%***********************]  1 of 1 completed\n",
      "[*********************100%***********************]  1 of 1 completed\n",
      "[*********************100%***********************]  1 of 1 completed\n"
     ]
    }
   ],
   "source": [
    "for ticker in tickers:\n",
    "    data = yf.download(ticker,period='10y',interval='1d')\n",
    "    for i in range(len(data)):\n",
    "        try:\n",
    "            if (1-movement)*data['Close'][i] > data['Close'][i+days]:\n",
    "                if i>=10:\n",
    "                    path = 'data/Initial Processing/Down/' + ticker + str(i).rjust(5,'0') + '.png'\n",
    "                    mpf.plot(data[i-10:i], type='candle',axisoff=True,style='charles',savefig=path)\n",
    "            elif (1+movement)*data['Close'][i] < data['Close'][i+days]:\n",
    "                if i>=10:\n",
    "                    path = 'data/Initial Processing/Up/' + ticker + str(i).rjust(5,'0') + '.png'\n",
    "                    mpf.plot(data[i-10:i], type='candle',axisoff=True,style='charles',savefig=path)\n",
    "            else:\n",
    "                if i>=10:\n",
    "                    path = 'data/Initial Processing/No Trend/' + ticker + str(i).rjust(5,'0') + '.png'\n",
    "                    mpf.plot(data[i-10:i], type='candle',axisoff=True,style='charles',savefig=path)\n",
    "        except:\n",
    "            pass"
   ]
  },
  {
   "cell_type": "code",
   "execution_count": null,
   "metadata": {},
   "outputs": [],
   "source": []
  }
 ],
 "metadata": {
  "kernelspec": {
   "display_name": "Python 3.10.5 64-bit",
   "language": "python",
   "name": "python3"
  },
  "language_info": {
   "codemirror_mode": {
    "name": "ipython",
    "version": 3
   },
   "file_extension": ".py",
   "mimetype": "text/x-python",
   "name": "python",
   "nbconvert_exporter": "python",
   "pygments_lexer": "ipython3",
   "version": "3.10.5"
  },
  "orig_nbformat": 4,
  "vscode": {
   "interpreter": {
    "hash": "369f2c481f4da34e4445cda3fffd2e751bd1c4d706f27375911949ba6bb62e1c"
   }
  }
 },
 "nbformat": 4,
 "nbformat_minor": 2
}
